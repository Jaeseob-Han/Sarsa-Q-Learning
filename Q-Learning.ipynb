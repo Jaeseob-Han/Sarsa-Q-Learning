{
 "cells": [
  {
   "cell_type": "code",
   "execution_count": 1,
   "id": "150881b2",
   "metadata": {
    "scrolled": true
   },
   "outputs": [
    {
     "name": "stderr",
     "output_type": "stream",
     "text": [
      "\n"
     ]
    }
   ],
   "source": [
    "import numpy as np\n",
    "import os\n",
    "import pandas as pd\n",
    "import random\n",
    "from collections import defaultdict\n",
    "import gym\n",
    "import gym_minigrid\n",
    "import matplotlib.pyplot as plt\n",
    "%matplotlib inline"
   ]
  },
  {
   "cell_type": "code",
   "execution_count": 2,
   "id": "bb3475c0",
   "metadata": {
    "scrolled": true
   },
   "outputs": [],
   "source": [
    "class QLearning:\n",
    "    def __init__(self, actions, agent_indicator=10):\n",
    "        self.actions = actions\n",
    "        self.agent_indicator = agent_indicator\n",
    "        self.alpha = 0.01\n",
    "        self.gamma = 0.9\n",
    "        self.epsilon = 0.2\n",
    "        self.q_values = defaultdict(lambda: [0.0] * actions)\n",
    "        \n",
    "    def _convert_state(self, s):\n",
    "        return np.where(s == self.agent_indicator)[0][0]\n",
    "        \n",
    "    def update(self, state, action, reward, next_state, next_action):\n",
    "        state = self._convert_state(state)\n",
    "        next_state = self._convert_state(next_state)\n",
    "        \n",
    "        q_value = self.q_values[state][action]\n",
    "\n",
    "        ################## write code ################################\n",
    "        next_q_value = \n",
    "        \n",
    "        td_error = \n",
    "        self.q_values[state][action] = \n",
    "        ##############################################################\n",
    "    \n",
    "    def act(self, state):\n",
    "        if np.random.rand() < self.epsilon:\n",
    "            action = np.random.choice(self.actions)\n",
    "        else:\n",
    "            state = self._convert_state(state)\n",
    "            q_values = self.q_values[state]\n",
    "            action = np.argmax(q_values)\n",
    "        return action"
   ]
  },
  {
   "cell_type": "code",
   "execution_count": 3,
   "id": "90706d6e",
   "metadata": {
    "scrolled": true
   },
   "outputs": [],
   "source": [
    "from utils import gen_wrapped_env, show_video"
   ]
  },
  {
   "cell_type": "code",
   "execution_count": 8,
   "id": "d048dbff",
   "metadata": {
    "scrolled": true
   },
   "outputs": [],
   "source": [
    "env = gen_wrapped_env('MiniGrid-Empty-6x6-v0')\n",
    "\n",
    "obs = env.reset()\n",
    "\n",
    "agent_position = obs[0]\n",
    "\n",
    "agent = QLearning(3, agent_position)"
   ]
  },
  {
   "cell_type": "markdown",
   "id": "e79aa8d2-fca8-4b2e-8127-d4c0469c52d1",
   "metadata": {},
   "source": [
    "## For Q-Learning\n",
    "+ Q-learning update"
   ]
  },
  {
   "cell_type": "code",
   "execution_count": 9,
   "id": "f7e8c55c",
   "metadata": {
    "scrolled": true
   },
   "outputs": [
    {
     "name": "stdout",
     "output_type": "stream",
     "text": [
      "episode: 20, rewards: 0\n",
      "episode: 40, rewards: 0\n",
      "episode: 60, rewards: 0\n",
      "episode: 80, rewards: 0\n",
      "episode: 100, rewards: 0\n",
      "episode: 120, rewards: 0\n",
      "episode: 140, rewards: 0\n",
      "episode: 160, rewards: 0\n",
      "episode: 180, rewards: 0\n",
      "episode: 200, rewards: 0\n",
      "episode: 220, rewards: 0\n",
      "episode: 240, rewards: 0\n",
      "episode: 260, rewards: 0\n",
      "episode: 280, rewards: 0\n",
      "episode: 300, rewards: 0\n",
      "episode: 320, rewards: 0\n",
      "episode: 340, rewards: 0\n",
      "episode: 360, rewards: 0\n",
      "episode: 380, rewards: 0\n",
      "episode: 400, rewards: 0\n",
      "episode: 420, rewards: 0\n",
      "episode: 440, rewards: 0\n",
      "episode: 460, rewards: 0\n",
      "episode: 480, rewards: 0\n",
      "episode: 500, rewards: 0\n",
      "episode: 520, rewards: 0\n",
      "episode: 540, rewards: 0\n",
      "episode: 560, rewards: 0\n",
      "episode: 580, rewards: 0\n",
      "episode: 600, rewards: 0\n",
      "episode: 620, rewards: 0\n",
      "episode: 640, rewards: 0\n",
      "episode: 660, rewards: 0\n",
      "episode: 680, rewards: 0\n",
      "episode: 700, rewards: 0\n",
      "episode: 720, rewards: 0\n",
      "episode: 740, rewards: 0\n",
      "episode: 760, rewards: 0\n",
      "episode: 780, rewards: 0\n",
      "episode: 800, rewards: 0\n",
      "episode: 820, rewards: 0\n",
      "episode: 840, rewards: 0\n",
      "episode: 860, rewards: 0\n",
      "episode: 880, rewards: 0\n",
      "episode: 900, rewards: 0\n",
      "episode: 920, rewards: 0\n",
      "episode: 940, rewards: 0\n",
      "episode: 960, rewards: 0\n",
      "episode: 980, rewards: 0\n",
      "episode: 1000, rewards: 0\n",
      "episode: 1020, rewards: 0\n",
      "episode: 1040, rewards: 0\n",
      "episode: 1060, rewards: 0\n",
      "episode: 1080, rewards: 0\n",
      "episode: 1100, rewards: 0\n",
      "episode: 1120, rewards: 0\n",
      "episode: 1140, rewards: 0\n",
      "episode: 1160, rewards: 0\n",
      "episode: 1180, rewards: 0\n",
      "episode: 1200, rewards: 0\n",
      "episode: 1220, rewards: 0\n",
      "episode: 1240, rewards: 0\n",
      "episode: 1260, rewards: 0\n",
      "episode: 1280, rewards: 0\n",
      "episode: 1300, rewards: 0\n",
      "episode: 1320, rewards: 0\n",
      "episode: 1340, rewards: 0\n",
      "episode: 1360, rewards: 0\n",
      "episode: 1380, rewards: 0\n",
      "episode: 1400, rewards: 0\n",
      "episode: 1420, rewards: 0\n",
      "episode: 1440, rewards: 0\n",
      "episode: 1460, rewards: 0\n",
      "episode: 1480, rewards: 0\n",
      "episode: 1500, rewards: 0\n",
      "episode: 1520, rewards: 0\n",
      "episode: 1540, rewards: 0\n",
      "episode: 1560, rewards: 0\n",
      "episode: 1580, rewards: 0.42399999999999993\n",
      "episode: 1600, rewards: 0.604\n",
      "episode: 1620, rewards: 0\n",
      "episode: 1640, rewards: 0.73\n",
      "episode: 1660, rewards: 0.352\n",
      "episode: 1680, rewards: 0.694\n",
      "episode: 1700, rewards: 0\n",
      "episode: 1720, rewards: 0\n",
      "episode: 1740, rewards: 0.82\n",
      "episode: 1760, rewards: 0.17199999999999993\n",
      "episode: 1780, rewards: 0.748\n",
      "episode: 1800, rewards: 0.784\n",
      "episode: 1820, rewards: 0\n",
      "episode: 1840, rewards: 0.31599999999999995\n",
      "episode: 1860, rewards: 0\n",
      "episode: 1880, rewards: 0.37\n",
      "episode: 1900, rewards: 0\n",
      "episode: 1920, rewards: 0.118\n",
      "episode: 1940, rewards: 0\n",
      "episode: 1960, rewards: 0.6759999999999999\n",
      "episode: 1980, rewards: 0\n",
      "episode: 2000, rewards: 0.784\n",
      "episode: 2020, rewards: 0\n",
      "episode: 2040, rewards: 0.748\n",
      "episode: 2060, rewards: 0.352\n",
      "episode: 2080, rewards: 0.874\n",
      "episode: 2100, rewards: 0\n",
      "episode: 2120, rewards: 0\n",
      "episode: 2140, rewards: 0.712\n",
      "episode: 2160, rewards: 0\n",
      "episode: 2180, rewards: 0\n",
      "episode: 2200, rewards: 0.604\n",
      "episode: 2220, rewards: 0\n",
      "episode: 2240, rewards: 0.3879999999999999\n",
      "episode: 2260, rewards: 0\n",
      "episode: 2280, rewards: 0\n",
      "episode: 2300, rewards: 0.784\n",
      "episode: 2320, rewards: 0.4059999999999999\n",
      "episode: 2340, rewards: 0.20799999999999996\n",
      "episode: 2360, rewards: 0\n",
      "episode: 2380, rewards: 0.532\n",
      "episode: 2400, rewards: 0.748\n",
      "episode: 2420, rewards: 0\n",
      "episode: 2440, rewards: 0.82\n",
      "episode: 2460, rewards: 0.55\n",
      "episode: 2480, rewards: 0\n",
      "episode: 2500, rewards: 0.15400000000000003\n",
      "episode: 2520, rewards: 0.6579999999999999\n",
      "episode: 2540, rewards: 0\n",
      "episode: 2560, rewards: 0.352\n",
      "episode: 2580, rewards: 0\n",
      "episode: 2600, rewards: 0\n",
      "episode: 2620, rewards: 0\n",
      "episode: 2640, rewards: 0\n",
      "episode: 2660, rewards: 0\n",
      "episode: 2680, rewards: 0\n",
      "episode: 2700, rewards: 0.29799999999999993\n",
      "episode: 2720, rewards: 0.712\n",
      "episode: 2740, rewards: 0.838\n",
      "episode: 2760, rewards: 0\n",
      "episode: 2780, rewards: 0.45999999999999996\n",
      "episode: 2800, rewards: 0\n",
      "episode: 2820, rewards: 0\n",
      "episode: 2840, rewards: 0.4959999999999999\n",
      "episode: 2860, rewards: 0.82\n",
      "episode: 2880, rewards: 0.838\n",
      "episode: 2900, rewards: 0\n",
      "episode: 2920, rewards: 0.748\n",
      "episode: 2940, rewards: 0\n",
      "episode: 2960, rewards: 0.42399999999999993\n",
      "episode: 2980, rewards: 0\n",
      "episode: 3000, rewards: 0.766\n",
      "episode: 3020, rewards: 0.784\n",
      "episode: 3040, rewards: 0.748\n",
      "episode: 3060, rewards: 0.748\n",
      "episode: 3080, rewards: 0.856\n",
      "episode: 3100, rewards: 0.694\n",
      "episode: 3120, rewards: 0.586\n",
      "episode: 3140, rewards: 0\n",
      "episode: 3160, rewards: 0\n",
      "episode: 3180, rewards: 0\n",
      "episode: 3200, rewards: 0\n",
      "episode: 3220, rewards: 0.478\n",
      "episode: 3240, rewards: 0.3879999999999999\n",
      "episode: 3260, rewards: 0.33399999999999996\n",
      "episode: 3280, rewards: 0.784\n",
      "episode: 3300, rewards: 0.802\n",
      "episode: 3320, rewards: 0\n",
      "episode: 3340, rewards: 0.82\n",
      "episode: 3360, rewards: 0\n",
      "episode: 3380, rewards: 0.784\n",
      "episode: 3400, rewards: 0.82\n",
      "episode: 3420, rewards: 0\n",
      "episode: 3440, rewards: 0.73\n",
      "episode: 3460, rewards: 0.33399999999999996\n",
      "episode: 3480, rewards: 0\n",
      "episode: 3500, rewards: 0\n",
      "episode: 3520, rewards: 0\n",
      "episode: 3540, rewards: 0\n",
      "episode: 3560, rewards: 0.856\n",
      "episode: 3580, rewards: 0\n",
      "episode: 3600, rewards: 0\n",
      "episode: 3620, rewards: 0.82\n",
      "episode: 3640, rewards: 0.4959999999999999\n",
      "episode: 3660, rewards: 0\n",
      "episode: 3680, rewards: 0\n",
      "episode: 3700, rewards: 0.874\n",
      "episode: 3720, rewards: 0.45999999999999996\n",
      "episode: 3740, rewards: 0.55\n",
      "episode: 3760, rewards: 0.604\n",
      "episode: 3780, rewards: 0.22599999999999998\n",
      "episode: 3800, rewards: 0\n",
      "episode: 3820, rewards: 0\n",
      "episode: 3840, rewards: 0.874\n",
      "episode: 3860, rewards: 0.874\n",
      "episode: 3880, rewards: 0\n",
      "episode: 3900, rewards: 0\n",
      "episode: 3920, rewards: 0\n",
      "episode: 3940, rewards: 0.802\n",
      "episode: 3960, rewards: 0.766\n",
      "episode: 3980, rewards: 0\n",
      "episode: 4000, rewards: 0.856\n",
      "episode: 4020, rewards: 0.766\n",
      "episode: 4040, rewards: 0\n",
      "episode: 4060, rewards: 0.55\n",
      "episode: 4080, rewards: 0\n",
      "episode: 4100, rewards: 0\n",
      "episode: 4120, rewards: 0.82\n",
      "episode: 4140, rewards: 0\n",
      "episode: 4160, rewards: 0.802\n",
      "episode: 4180, rewards: 0.748\n",
      "episode: 4200, rewards: 0.18999999999999995\n",
      "episode: 4220, rewards: 0\n",
      "episode: 4240, rewards: 0.45999999999999996\n",
      "episode: 4260, rewards: 0.802\n",
      "episode: 4280, rewards: 0\n",
      "episode: 4300, rewards: 0.838\n",
      "episode: 4320, rewards: 0\n",
      "episode: 4340, rewards: 0.118\n",
      "episode: 4360, rewards: 0.244\n",
      "episode: 4380, rewards: 0.838\n",
      "episode: 4400, rewards: 0.82\n",
      "episode: 4420, rewards: 0\n",
      "episode: 4440, rewards: 0\n",
      "episode: 4460, rewards: 0\n",
      "episode: 4480, rewards: 0\n",
      "episode: 4500, rewards: 0\n",
      "episode: 4520, rewards: 0\n",
      "episode: 4540, rewards: 0.82\n",
      "episode: 4560, rewards: 0.622\n",
      "episode: 4580, rewards: 0\n",
      "episode: 4600, rewards: 0.5680000000000001\n",
      "episode: 4620, rewards: 0.73\n",
      "episode: 4640, rewards: 0.82\n",
      "episode: 4660, rewards: 0.73\n",
      "episode: 4680, rewards: 0\n",
      "episode: 4700, rewards: 0\n",
      "episode: 4720, rewards: 0.784\n",
      "episode: 4740, rewards: 0\n",
      "episode: 4760, rewards: 0.73\n",
      "episode: 4780, rewards: 0\n",
      "episode: 4800, rewards: 0\n",
      "episode: 4820, rewards: 0.6759999999999999\n",
      "episode: 4840, rewards: 0.82\n",
      "episode: 4860, rewards: 0.5680000000000001\n",
      "episode: 4880, rewards: 0.856\n",
      "episode: 4900, rewards: 0\n",
      "episode: 4920, rewards: 0\n",
      "episode: 4940, rewards: 0.784\n",
      "episode: 4960, rewards: 0.874\n",
      "episode: 4980, rewards: 0.586\n",
      "episode: 5000, rewards: 0.09999999999999998\n"
     ]
    }
   ],
   "source": [
    "rewards = []\n",
    "for ep in range(5000):\n",
    "    done = False\n",
    "    obs = env.reset()\n",
    "    action = agent.act(obs)\n",
    "    \n",
    "    ep_rewards = 0\n",
    "    while not done:\n",
    "        next_obs, reward, done, info = env.step(action)\n",
    "\n",
    "        next_action = agent.act(next_obs)\n",
    "\n",
    "        agent.update(obs, action, reward, next_obs, next_action)\n",
    "        \n",
    "        ep_rewards += reward\n",
    "        obs = next_obs\n",
    "        action = next_action\n",
    "    rewards.append(ep_rewards)\n",
    "    if (ep+1) % 20 == 0:\n",
    "        print(\"episode: {}, rewards: {}\".format(ep+1, ep_rewards))\n",
    "env.close()"
   ]
  },
  {
   "cell_type": "code",
   "execution_count": 10,
   "id": "a086e2cd",
   "metadata": {},
   "outputs": [
    {
     "data": {
      "text/plain": [
       "{0: [0.03076, 0.0307, 0.03536],\n",
       " 12: [0.05389, 0.05408, 0.06345],\n",
       " 3: [0.01628, 0.01786, 0.03133],\n",
       " 15: [0.01046, 0.01178, 0.08142],\n",
       " 18: [0.0196, 0.01984, 0.12467],\n",
       " 24: [0.07332, 0.07322, 0.08504],\n",
       " 6: [0.0188, 0.01784, 0.03731],\n",
       " 27: [0.0302, 0.03327, 0.19268],\n",
       " 9: [0.03946, 0.03871, 0.05124],\n",
       " 30: [0.04035, 0.06723, 0.27341],\n",
       " 33: [0.23721, 0.24028, 0.31242],\n",
       " 36: [0.09384, 0.09401, 0.09379],\n",
       " 39: [0.32134, 0.31724, 0.39291],\n",
       " 42: [0.41736, 0.4289, 0.56847],\n",
       " 21: [0.12406, 0.11113, 0.1891],\n",
       " 45: [0.0, 0.0, 0.0]}"
      ]
     },
     "execution_count": 10,
     "metadata": {},
     "output_type": "execute_result"
    }
   ],
   "source": [
    "{s:np.round(q, 5).tolist() for s, q in agent.q_values.items()}"
   ]
  },
  {
   "cell_type": "code",
   "execution_count": 11,
   "id": "77e3015b",
   "metadata": {},
   "outputs": [
    {
     "data": {
      "text/html": [
       "<video alt=\"test\" autoplay \n",
       "                loop controls style=\"height: 400px;\">\n",
       "                <source src=\"data:video/mp4;base64,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\" type=\"video/mp4\" />\n",
       "             </video>"
      ],
      "text/plain": [
       "<IPython.core.display.HTML object>"
      ]
     },
     "metadata": {},
     "output_type": "display_data"
    }
   ],
   "source": [
    "show_video()"
   ]
  },
  {
   "cell_type": "code",
   "execution_count": 12,
   "id": "42787cff",
   "metadata": {},
   "outputs": [],
   "source": [
    "os.makedirs('./logs', exist_ok=True)\n",
    "pd.Series(rewards).to_csv('./logs/rewards_qlearning.csv')"
   ]
  },
  {
   "cell_type": "code",
   "execution_count": 13,
   "id": "da141489",
   "metadata": {},
   "outputs": [],
   "source": [
    "sarsa_logs = pd.read_csv('./logs/rewards_sarsa.csv', index_col=False).iloc[:, 1]\n",
    "q_logs = pd.read_csv('./logs/rewards_qlearning.csv', index_col=False).iloc[:, 1]"
   ]
  },
  {
   "cell_type": "code",
   "execution_count": 14,
   "id": "43dc92ab",
   "metadata": {},
   "outputs": [
    {
     "data": {
      "text/plain": [
       "<matplotlib.legend.Legend at 0x1bf0eb1b9d0>"
      ]
     },
     "execution_count": 14,
     "metadata": {},
     "output_type": "execute_result"
    },
    {
     "data": {
      "image/png": "[encoded data removed]",
      "text/plain": [
       "<Figure size 1600x800 with 1 Axes>"
      ]
     },
     "metadata": {},
     "output_type": "display_data"
    }
   ],
   "source": [
    "plt.figure(figsize=(16, 8))\n",
    "plt.plot(q_logs.cumsum() / (pd.Series(np.arange(q_logs.shape[0]))+1), label=\"QLearning\")\n",
    "plt.plot(sarsa_logs.cumsum() / (pd.Series(np.arange(sarsa_logs.shape[0]))+1), label=\"SARSA\")\n",
    "plt.legend()"
   ]
  },
  {
   "cell_type": "code",
   "execution_count": null,
   "id": "69d2dad1",
   "metadata": {},
   "outputs": [],
   "source": []
  },
  {
   "cell_type": "code",
   "execution_count": null,
   "id": "a1ab15f2",
   "metadata": {},
   "outputs": [],
   "source": []
  }
 ],
 "metadata": {
  "kernelspec": {
   "display_name": "Python 3 (ipykernel)",
   "language": "python",
   "name": "python3"
  },
  "language_info": {
   "codemirror_mode": {
    "name": "ipython",
    "version": 3
   },
   "file_extension": ".py",
   "mimetype": "text/x-python",
   "name": "python",
   "nbconvert_exporter": "python",
   "pygments_lexer": "ipython3",
   "version": "3.9.0"
  }
 },
 "nbformat": 4,
 "nbformat_minor": 5
}
